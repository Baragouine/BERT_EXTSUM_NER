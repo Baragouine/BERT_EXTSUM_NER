{
 "cells": [
  {
   "attachments": {},
   "cell_type": "markdown",
   "metadata": {},
   "source": [
    "# Train Bert for extractive summarization and NER"
   ]
  },
  {
   "cell_type": "code",
   "execution_count": 2,
   "metadata": {},
   "outputs": [],
   "source": [
    "import argparse\n",
    "from time import time\n",
    "import torch\n",
    "import numpy as np\n",
    "import random\n",
    "import pandas as pd\n",
    "from sklearn.utils import shuffle\n",
    "from transformers import DistilBertTokenizer"
   ]
  },
  {
   "cell_type": "code",
   "execution_count": 3,
   "metadata": {},
   "outputs": [],
   "source": [
    "def is_notebook() -> bool:\n",
    "  try:\n",
    "    shell = get_ipython().__class__.__name__\n",
    "    if shell == 'ZMQInteractiveShell':\n",
    "      return True   # Jupyter notebook or qtconsole\n",
    "    elif shell == 'TerminalInteractiveShell':\n",
    "      return False  # Terminal running IPython\n",
    "    else:\n",
    "      return False  # Other type (?)\n",
    "  except NameError:\n",
    "    return False      # Probably standard Python interpreter"
   ]
  },
  {
   "attachments": {},
   "cell_type": "markdown",
   "metadata": {},
   "source": [
    "## (Hyper-)parameters"
   ]
  },
  {
   "cell_type": "code",
   "execution_count": 4,
   "metadata": {},
   "outputs": [],
   "source": [
    "# Parse args if script mode\n",
    "parser = argparse.ArgumentParser(description='extractive summary and ner using bert')\n",
    "\n",
    "parser.add_argument('-is_graphic',type=int,default=1,choices=[0,1])\n",
    "parser.add_argument('-gpu_num',type=int,default=0)\n",
    "parser.add_argument('-batch_size',type=int,default=32)\n",
    "parser.add_argument('-epochs',type=int,default=100)\n",
    "parser.add_argument('-dataset',type=str,default=\"data/wiki_geo_preprocessed.json\")\n",
    "\n",
    "args = None\n",
    "\n",
    "if is_notebook():\n",
    "  args = parser.parse_args(\"\")\n",
    "else:\n",
    "  args = parser.parse_args()"
   ]
  },
  {
   "cell_type": "code",
   "execution_count": 5,
   "metadata": {},
   "outputs": [
    {
     "name": "stdout",
     "output_type": "stream",
     "text": [
      "parse:\n",
      "is_graphic: True\n",
      "cuda_num: 0\n",
      "epochs 100\n",
      "batch_size 32\n"
     ]
    }
   ],
   "source": [
    "# parameters\n",
    "is_graphic = args.is_graphic != 0\n",
    "cuda_num = args.gpu_num\n",
    "\n",
    "# hyper-parameters\n",
    "batch_size = args.batch_size\n",
    "epochs = args.epochs\n",
    "learning_rate = 5e-4\n",
    "early_stopping = 3\n",
    "model_name = \"DistBERT_ExtSUM_NER\"\n",
    "sub_folder_name = \"model_name__{}__time__{}__lr__{}__batch_size__{}__cuda_num__{}__early_stopping__{}\".format(model_name, time(), learning_rate, batch_size, cuda_num, early_stopping)\n",
    "checkpoints_folder = \"./checkpoints/\" + sub_folder_name\n",
    "\n",
    "# print\n",
    "print(\"parse:\")\n",
    "print(\"is_graphic:\", is_graphic)\n",
    "print(\"cuda_num:\", cuda_num)\n",
    "print(\"epochs\", epochs)\n",
    "print(\"batch_size\", batch_size)"
   ]
  },
  {
   "attachments": {},
   "cell_type": "markdown",
   "metadata": {},
   "source": [
    "## PyTorch initialisation"
   ]
  },
  {
   "cell_type": "code",
   "execution_count": 6,
   "metadata": {},
   "outputs": [],
   "source": [
    "torch.manual_seed(0)\n",
    "random.seed(0)\n",
    "np.random.seed(0)"
   ]
  },
  {
   "cell_type": "code",
   "execution_count": 7,
   "metadata": {},
   "outputs": [
    {
     "name": "stdout",
     "output_type": "stream",
     "text": [
      "Number of available GPUs: 1\n",
      "GPU 0: NVIDIA GeForce RTX 3060\n"
     ]
    }
   ],
   "source": [
    "# Check if a GPU is available\n",
    "if torch.cuda.is_available():\n",
    "  # Display the number of available GPUs\n",
    "  print(f\"Number of available GPUs: {torch.cuda.device_count()}\")\n",
    "  # Display the name of each GPU\n",
    "  for i in range(torch.cuda.device_count()):\n",
    "    print(f\"GPU {i}: {torch.cuda.get_device_name(i)}\")\n",
    "elif torch.backends.mps.is_available():\n",
    "  print(\"MPS available.\")\n",
    "else:\n",
    "  print(\"No GPU available.\")"
   ]
  },
  {
   "cell_type": "code",
   "execution_count": 8,
   "metadata": {},
   "outputs": [
    {
     "data": {
      "text/plain": [
       "device(type='cuda', index=0)"
      ]
     },
     "execution_count": 8,
     "metadata": {},
     "output_type": "execute_result"
    }
   ],
   "source": [
    "if torch.cuda.is_available():  \n",
    "  dev = \"cuda:\" + str(cuda_num) \n",
    "elif torch.backends.mps.is_available():\n",
    "  dev = torch.device(\"mps\")\n",
    "else:  \n",
    "  dev = \"cpu\" \n",
    "\n",
    "device = torch.device(dev)\n",
    "device"
   ]
  },
  {
   "attachments": {},
   "cell_type": "markdown",
   "metadata": {},
   "source": [
    "## Functions"
   ]
  },
  {
   "cell_type": "code",
   "execution_count": 9,
   "metadata": {},
   "outputs": [],
   "source": [
    "def average(l):\n",
    "  return sum(l) / len(l)"
   ]
  },
  {
   "attachments": {},
   "cell_type": "markdown",
   "metadata": {},
   "source": [
    "## Load data"
   ]
  },
  {
   "cell_type": "code",
   "execution_count": 10,
   "metadata": {},
   "outputs": [],
   "source": [
    "df = pd.read_json(args.dataset)\n",
    "df = shuffle(df, random_state=0)\n",
    "\n",
    "df_test = df.iloc[0:100]\n",
    "df_val = df.iloc[100:200]\n",
    "df_train = df.iloc[200:300]"
   ]
  },
  {
   "cell_type": "code",
   "execution_count": 11,
   "metadata": {},
   "outputs": [
    {
     "data": {
      "text/html": [
       "<div>\n",
       "<style scoped>\n",
       "    .dataframe tbody tr th:only-of-type {\n",
       "        vertical-align: middle;\n",
       "    }\n",
       "\n",
       "    .dataframe tbody tr th {\n",
       "        vertical-align: top;\n",
       "    }\n",
       "\n",
       "    .dataframe thead th {\n",
       "        text-align: right;\n",
       "    }\n",
       "</style>\n",
       "<table border=\"1\" class=\"dataframe\">\n",
       "  <thead>\n",
       "    <tr style=\"text-align: right;\">\n",
       "      <th></th>\n",
       "      <th>categories</th>\n",
       "      <th>titles</th>\n",
       "      <th>summaries</th>\n",
       "      <th>contents</th>\n",
       "      <th>entities</th>\n",
       "      <th>flat_contents</th>\n",
       "      <th>trunc_contents</th>\n",
       "      <th>labels_entities</th>\n",
       "      <th>labels_sentences</th>\n",
       "    </tr>\n",
       "  </thead>\n",
       "  <tbody>\n",
       "    <tr>\n",
       "      <th>21430</th>\n",
       "      <td>géologie</td>\n",
       "      <td>Sismicité au Japon</td>\n",
       "      <td>La sismicité au Japon est particulièrement imp...</td>\n",
       "      <td>La sismicité au Japon est particulièrement imp...</td>\n",
       "      <td>[10 septembre, 11 mars, 12 janvier, 1399, 1400...</td>\n",
       "      <td>\\n\\n\\n\\nLe Japon est un archipel volcanique, s...</td>\n",
       "      <td>\\n\\n\\n== Plaques et fosses ==\\n\\nLe Japon est ...</td>\n",
       "      <td>[[0, E, 0, 0, E, 0, 0, 0, 0, 0, L, C, C, R, C,...</td>\n",
       "      <td>[1, 0, 0, 0, 1, 1, 1, 0, 0, 0, 1, 0, 0, 1, 1, ...</td>\n",
       "    </tr>\n",
       "    <tr>\n",
       "      <th>7651</th>\n",
       "      <td>géographie générale</td>\n",
       "      <td>Voyage d'études</td>\n",
       "      <td>Voyage d'études est un roman inachevé de l'écr...</td>\n",
       "      <td>Voyage d'études est un roman inachevé de l'écr...</td>\n",
       "      <td>[1905 en littérature, 1991 en littérature, Abe...</td>\n",
       "      <td>\\n\\n\\n\\nEn 1903, Théophile Cart prononce un di...</td>\n",
       "      <td>\\n\\n\\n== Historique ==\\n\\nEn 1903, Théophile C...</td>\n",
       "      <td>[[0, 0, R, C, 0, 0, 0, 0, E, 0, 0, 0, 0, 0, 0,...</td>\n",
       "      <td>[1, 1, 0, 0, 0, 0, 1, 0, 0, 0, 0, 0, 0, 0, 0, ...</td>\n",
       "    </tr>\n",
       "  </tbody>\n",
       "</table>\n",
       "</div>"
      ],
      "text/plain": [
       "                categories              titles  \\\n",
       "21430             géologie  Sismicité au Japon   \n",
       "7651   géographie générale     Voyage d'études   \n",
       "\n",
       "                                               summaries  \\\n",
       "21430  La sismicité au Japon est particulièrement imp...   \n",
       "7651   Voyage d'études est un roman inachevé de l'écr...   \n",
       "\n",
       "                                                contents  \\\n",
       "21430  La sismicité au Japon est particulièrement imp...   \n",
       "7651   Voyage d'études est un roman inachevé de l'écr...   \n",
       "\n",
       "                                                entities  \\\n",
       "21430  [10 septembre, 11 mars, 12 janvier, 1399, 1400...   \n",
       "7651   [1905 en littérature, 1991 en littérature, Abe...   \n",
       "\n",
       "                                           flat_contents  \\\n",
       "21430  \\n\\n\\n\\nLe Japon est un archipel volcanique, s...   \n",
       "7651   \\n\\n\\n\\nEn 1903, Théophile Cart prononce un di...   \n",
       "\n",
       "                                          trunc_contents  \\\n",
       "21430  \\n\\n\\n== Plaques et fosses ==\\n\\nLe Japon est ...   \n",
       "7651   \\n\\n\\n== Historique ==\\n\\nEn 1903, Théophile C...   \n",
       "\n",
       "                                         labels_entities  \\\n",
       "21430  [[0, E, 0, 0, E, 0, 0, 0, 0, 0, L, C, C, R, C,...   \n",
       "7651   [[0, 0, R, C, 0, 0, 0, 0, E, 0, 0, 0, 0, 0, 0,...   \n",
       "\n",
       "                                        labels_sentences  \n",
       "21430  [1, 0, 0, 0, 1, 1, 1, 0, 0, 0, 1, 0, 0, 1, 1, ...  \n",
       "7651   [1, 1, 0, 0, 0, 0, 1, 0, 0, 0, 0, 0, 0, 0, 0, ...  "
      ]
     },
     "execution_count": 11,
     "metadata": {},
     "output_type": "execute_result"
    }
   ],
   "source": [
    "df.head(2)"
   ]
  },
  {
   "cell_type": "code",
   "execution_count": 34,
   "metadata": {},
   "outputs": [],
   "source": [
    "# URLs:\n",
    "# * preprocessing 1 : https://towardsdatascience.com/nlp-preprocessing-with-nltk-3c04ee00edc0\n",
    "# * preprocessing 2 : https://www.nltk.org/api/nltk.tokenize.html\n",
    "\n",
    "import string\n",
    "from nltk.corpus import stopwords\n",
    "from nltk.stem.porter import PorterStemmer\n",
    "import nltk\n",
    "# Run the below line only the first time of running nltk\n",
    "# nltk.download()\n",
    "\n",
    "def preprocess_text(text, sent_tokenizer, bert_tokenizer, padding_trunc_doc):\n",
    "  # tokenize sentence\n",
    "  text = sent_tokenizer(text)\n",
    "\n",
    "  # Add [SEP]\n",
    "  text = \" [SEP] \".join(text)\n",
    "\n",
    "  # tokenize with bert tokenizer\n",
    "  inputs = bert_tokenizer.encode_plus(\n",
    "    text,\n",
    "    add_special_tokens=True,\n",
    "    padding=\"max_length\",\n",
    "    max_length=padding_trunc_doc,\n",
    "    return_tensors=\"pt\",\n",
    "    truncation=True\n",
    "  )\n",
    "\n",
    "  input_ids = inputs['input_ids'].squeeze()\n",
    "  attention_mask = inputs['attention_mask'].squeeze()\n",
    "\n",
    "  return input_ids, attention_mask"
   ]
  },
  {
   "cell_type": "code",
   "execution_count": 35,
   "metadata": {},
   "outputs": [],
   "source": [
    "from nltk.tokenize import LineTokenizer, sent_tokenize\n",
    "\n",
    "# preprocess df\n",
    "def preprocess_df(df, bert_tokenizer, padding_trunc_doc, doc_column_name=\"docs\", labels_sum_column_name=\"labels_sum\", labels_ner_column_name=None, is_sep_n=False):\n",
    "  nltk_line_tokenizer = LineTokenizer()\n",
    "  sent_tokenizer = None\n",
    "\n",
    "  if is_sep_n:\n",
    "    sent_tokenizer = lambda x: nltk_line_tokenizer.tokenize(x)\n",
    "  else:\n",
    "    sent_tokenizer = sent_tokenize\n",
    "\n",
    "  result = []\n",
    "  for idx in df.index:\n",
    "    input_ids, attention_mask = preprocess_text(df[doc_column_name][idx], sent_tokenizer=sent_tokenizer, bert_tokenizer=bert_tokenizer, padding_trunc_doc=padding_trunc_doc)\n",
    "    if labels_ner_column_name is not None:\n",
    "      result.append({\"idx\" : idx, \"input_ids\" : input_ids, \"attention_mask\": attention_mask, \"labels_sum\" : df[labels_sum_column_name][idx], \"labels_ner\" : df[labels_ner_column_name][idx]})\n",
    "    else:\n",
    "      result.append({\"idx\" : idx, \"input_ids\" : input_ids, \"attention_mask\": attention_mask, \"labels\" : df[labels_sum_column_name][idx]})\n",
    "\n",
    "  return result"
   ]
  },
  {
   "cell_type": "code",
   "execution_count": 44,
   "metadata": {},
   "outputs": [],
   "source": [
    "train_dataset = preprocess_df(df=df_train, bert_tokenizer=DistilBertTokenizer.from_pretrained('distilbert-base-uncased'), padding_trunc_sent=512, doc_column_name=\"flat_contents\", labels_sum_column_name=\"labels_sentences\", labels_ner_column_name=\"labels_entities\", is_sep_n=False)\n",
    "val_dataset = preprocess_df(df=df_val, bert_tokenizer=DistilBertTokenizer.from_pretrained('distilbert-base-uncased'), padding_trunc_sent=512, doc_column_name=\"flat_contents\", labels_sum_column_name=\"labels_sentences\", labels_ner_column_name=\"labels_entities\", is_sep_n=False)\n",
    "test_dataset = preprocess_df(df=df_test, bert_tokenizer=DistilBertTokenizer.from_pretrained('distilbert-base-uncased'), padding_trunc_sent=512, doc_column_name=\"flat_contents\", labels_sum_column_name=\"labels_sentences\", labels_ner_column_name=\"labels_entities\", is_sep_n=False)"
   ]
  },
  {
   "cell_type": "code",
   "execution_count": 37,
   "metadata": {},
   "outputs": [
    {
     "data": {
      "text/plain": [
       "tensor(10)"
      ]
     },
     "execution_count": 37,
     "metadata": {},
     "output_type": "execute_result"
    }
   ],
   "source": [
    "torch.sum(train_dataset[0][\"input_ids\"] == 102)"
   ]
  },
  {
   "cell_type": "code",
   "execution_count": 38,
   "metadata": {},
   "outputs": [
    {
     "data": {
      "text/plain": [
       "39"
      ]
     },
     "execution_count": 38,
     "metadata": {},
     "output_type": "execute_result"
    }
   ],
   "source": [
    "len(train_dataset[0][\"labels_sum\"])"
   ]
  },
  {
   "cell_type": "code",
   "execution_count": 42,
   "metadata": {},
   "outputs": [
    {
     "data": {
      "text/plain": [
       "tensor([  101,  2474,  5715,  9765,  8740, 13926,  1011,  9765,  4241, 17155,\n",
       "        16778,  2078,  1012,   102,  2365,  8945, 12514,  9765,  1037,  1016,\n",
       "         1010,  1019,  2463,  1037,  1048,  1005,  9765,  2139,  3002,  1011,\n",
       "         5578,  1011,  1041, 25394,  3366,  3802,  1037,  1022,  2463,  1037,\n",
       "         1048,  1005, 15068,  4355,  2139,  3347, 21031,  3126,  1012,   102,\n",
       "         3393, 18856,  9581,  2102, 21864, 14418, 21162,  5562,  2474,  5715,\n",
       "         9765, 24209, 11475,  8873,  2063,  1010,  4372,  2230,  1010,  2139,\n",
       "         1077, 18856,  9581,  2102,  4153,  7413, 23151,  2278,  1090,  1010,\n",
       "         7367,  7811,  2474,  5939, 18155,  8649,  2666,  4078, 18856,  9581,\n",
       "         3215,  2139,  2474,  2605, 21864,  4012, 13876,  2063,  2632,  5668,\n",
       "        17504,  2102,  2882,  2015,  4127,  2139, 18856,  9581,  3215,  4372,\n",
       "         6005, 15049,  1012,   102,  4372, 12609,  1010,  2474,  5715, 24501,\n",
       "        21748,  2102,  4241,  2828,  1077, 18856,  9581,  2102,  4153,  7413,\n",
       "         1090, 18033,  2474,  5579, 27859, 16558,  2666, 11968,  2777,  8780,\n",
       "         1011,  2605,  1010, 21864, 11265,  4012, 13876,  2063,  4078,  2953,\n",
       "         2863,  2483,  1010,  4372,  6765, 10439,  3217,  5403,  1010, 10861,\n",
       "        25022,  2078,  4160,  2882,  2015,  4127,  2139, 18856,  9581,  3215,\n",
       "         4372,  6005, 15049,  1012,   102,  8292,  2828,  2139, 18856,  9581,\n",
       "         2102,  7367, 19817,  4215, 14663, 11968,  4078,  7715,  2079, 18796,\n",
       "         2015,  3802, 16655, 20228,  2226, 25500, 11368,  7373,  5816,  3672,\n",
       "        11113, 29067, 10111,  1006,  4372, 14975, 13642,  2278,  4649,  2566,\n",
       "        20689, 23757,  2015,  2310, 16885,  2139,  1048,  1005,  2012,  5802,\n",
       "        28437,  1007,  1010, 16360,  8445,  2666,  2000,  4904,  8740,  2146,\n",
       "         2139,  1048,  1005,  4776,  2063, 13642,  2278,  4895, 26523,  4555,\n",
       "         1040,  1005, 13323, 16429,  2890,  1037, 10768, 19716,  3771,  1012,\n",
       "          102,  4649, 11498, 11368,  6072, 18856,  9581, 28437,  2015, 21864,\n",
       "         2006,  2102,  2566, 15630,  1040,  1521, 27859, 16558,  4313,  2474,\n",
       "         5939, 18155,  8649,  2666,  2139,  2230,  4012,  6442,  4765,  2416,\n",
       "        10857, 10364,  4649,  7715,  3802, 17504,  2102, 10364,  4649, 13511,\n",
       "         2015,  1010,  2123,  2102,  4649, 10380,  9236, 11370,  1037,  2474,\n",
       "         3671,  2063,  3411,  1011,  2456,  1012,   102,  4649, 17419,  4054,\n",
       "         2229, 10857, 14418, 21162, 29196,  2102,  2474,  5715,  2365,  2102,\n",
       "         2556, 10285, 18033,  1048,  1005,  4372,  3540, 16200, 25022,  1011,\n",
       "        19804,  2229,  1012,   102, 13642,  2278,  3393,  2689,  3672, 18856,\n",
       "         9581, 28437,  1010,  8292,  2015, 10857,  2006,  2102, 23408,  4747,\n",
       "         5657,  1012,   102, 16655,  3802, 12672, 19148,  2063,  4372,  2297,\n",
       "        11968,  2474,  3257,  2236,  2063,  2139,  1048,  1005,  4372,  2121,\n",
       "        11239,  3802,  4241, 18856,  9581,  2102,  3143,  2063, 11968,  4078,\n",
       "        25041,  3164,  2229,  3653,  6767,  4183,  4372,  1041, 16020,  2102,\n",
       "        10861,  2474,  4860,  9587, 20684,  2638, 16475, 14995,  2102, 13675,\n",
       "        28100,  2890,  3802,  2474, 20228,  2226, 25500, 11368,  7373,  9587,\n",
       "        20684,  2638, 21790, 18116,  1010, 13642,  2278,  2000, 10421, 14876,\n",
       "         2483,  2139, 24898,  2015,  8358,  3164,  2229,  1012,   102,  8292,\n",
       "         2015,  2689,  8163, 21877, 27346,  2102,  3802,  2890,  9530,  9153,\n",
       "         4570,  7505,  2474,  2276, 23879, 12898,  5856,  4226,  2139,  2777,\n",
       "         8780,  1011,  2605,  2474,  4606,  4013,  5403,  1010,  1077,  2175,\n",
       "        10087,  3077,  1090,  1010,  7505,  2474,  5715,  2139,  2175, 10087,\n",
       "         3077,  1011,  3393,  1996,  4014,  1010, 28616,  2063,  4372,  2326,\n",
       "         4372,  3851,  3802, 21864,  7367, 19817,  7140,  3726,  1037,  1023,\n",
       "         2463,  1037,  5285,  1040,  1005,  1051,  5562,  4887,  1010,  1010,\n",
       "        15068,  2474,  4860,  9587, 20684,  2638,  5754, 16284,  2571,  9765,\n",
       "         2139,   102])"
      ]
     },
     "execution_count": 42,
     "metadata": {},
     "output_type": "execute_result"
    }
   ],
   "source": [
    "train_dataset[0][\"input_ids\"]"
   ]
  },
  {
   "cell_type": "code",
   "execution_count": 40,
   "metadata": {},
   "outputs": [
    {
     "data": {
      "text/plain": [
       "\"\\n\\n\\nLa commune est au nord-est du Cotentin. Son bourg est à 2,5 km à l'est de Saint-Pierre-Église et à 8 km à l'ouest de Barfleur.\\n\\n\\nLe climat qui caractérise la commune est qualifié, en 2010, de « climat océanique franc », selon la typologie des climats de la France qui compte alors huit grands types de climats en métropole. En 2020, la commune ressort du type « climat océanique » dans la classification établie par Météo-France, qui ne compte désormais, en première approche, que cinq grands types de climats en métropole. Ce type de climat se traduit par des températures douces et une pluviométrie relativement abondante (en liaison avec les perturbations venant de l'Atlantique), répartie tout au long de l'année avec un léger maximum d'octobre à février.\\nLes paramètres climatiques qui ont permis d’établir la typologie de 2010 comportent six variables pour les températures et huit pour les précipitations, dont les valeurs correspondent à la normale 1971-2000. Les sept principales variables caractérisant la commune sont présentées dans l'encadré ci-après.\\n\\nAvec le changement climatique, ces variables ont évolué. Une étude réalisée en 2014 par la Direction générale de l'Énergie et du Climat complétée par des études régionales prévoit en effet que la température moyenne devrait croître et la pluviométrie moyenne baisser, avec toutefois de fortes variations régionales. Ces changements peuvent être constatés sur la station météorologique de Météo-France la plus proche, « Gonneville », sur la commune de Gonneville-Le Theil, mise en service en 1959 et qui se trouve à 9 km à vol d'oiseau,, où la température moyenne annuelle est de 10,7 °C et la hauteur de précipitations de 919,7 mm pour la période 1981-2010.\\nSur la station météorologique historique la plus proche, « Cherbourg – Maupertus », sur la commune de Cherbourg-en-Cotentin, mise en service en 1935 et à 19 km, la température moyenne annuelle évolue de 10,4 °C pour la période 1971-2000 à 10,7 °C pour 1981-2010, puis à 11,1 °C pour 1991-2020.\\n\\n\\n\\n\\nVarouville est une commune rurale, car elle fait partie des communes peu ou très peu denses, au sens de la grille communale de densité de l'Insee,,,.\\nPar ailleurs la commune fait partie de l'aire d'attraction de Cherbourg-en-Cotentin, dont elle est une commune de la couronne. Cette aire, qui regroupe 77 communes, est catégorisée dans les aires de 50 000 à moins de 200 000 habitants,.\\n\\n\\n\\nL'occupation des sols de la commune, telle qu'elle ressort de la base de données européenne d’occupation biophysique des sols Corine Land Cover (CLC), est marquée par l'importance des territoires agricoles (100 % en 2018), une proportion identique à celle de 1990 (100 %). La répartition détaillée en 2018 est la suivante : prairies (46 %), terres arables (38,5 %), zones agricoles hétérogènes (15,5 %).\\nL'IGN met par ailleurs à disposition un outil en ligne permettant de comparer l’évolution dans le temps de l’occupation des sols de la commune (ou de territoires à des échelles différentes). Plusieurs époques sont accessibles sous forme de cartes ou photos aériennes : la carte de Cassini (XVIIIe siècle), la carte d'état-major (1820-1866) et la période actuelle (1950 à aujourd'hui).\\n\\n\\nLe nom de la localité est attesté sous les formes Vasrouvilla (sans date), Warouvilla en 1280, Varrouvilla vers 1280.\\nLe toponyme est basé sur un anthroponyme germanique tel que Warald ou Warulfus,, (forme latinisée, comprendre Warulf/Warolf cf. Warulfe Ier d'Uxelles) et sur l'ancien français ville/vile dans son sens originel de « domaine rural » issu du latin villa rustica.\\nRemarque : le même nom de personne est attesté au moins une seconde fois en Normandie dans Montgaroult (Orne, Mons Warulfi 1063), cette commune se trouvant au sud de l'isoglosse w- / g(u)- (qui est parallèle à la ligne Joret en Normandie), d'où le passage de [w] > [g], alors que dans Varouville, il s'agit de l'évolution secondaire [w] > [v] qui s'est produite seulement à partir du XIIe siècle.\\nLe gentilé est Varouvillais.\\n\\n\\nEntre 1911 et 1950, la commune est traversée par le « Tue-Vaques », le chemin de fer entre Cherbourg et Barfleur, dont on peut encore voir l'ancienne gare à l'architecture du XXe siècle, près de l'église.\\n\\n\\n\\nLe conseil municipal est composé de onze membres dont le maire et deux adjoints.\\n\\n\\nL'évolution du nombre d'habitants est connue à travers les recensements de la population effectués dans la commune depuis 1793. À partir de 2006, les populations légales des communes sont publiées annuellement par l'Insee. Le recensement repose désormais sur une collecte d'information annuelle, concernant successivement tous les territoires communaux au cours d'une période de cinq ans. Pour les communes de moins de 10 000 habitants, une enquête de recensement portant sur toute la population est réalisée tous les cinq ans, les populations légales des années intermédiaires étant quant à elles estimées par interpolation ou extrapolation. Pour la commune, le premier recensement exhaustif entrant dans le cadre du nouveau dispositif a été réalisé en 2005.\\nEn 2020, la commune comptait 233 habitants, en diminution de 12,08 % par rapport à 2014 (Manche : −0,97 %, France hors Mayotte : +1,9 %).\\nVarouville a compté jusqu'à 519 habitants en 1806.\\n\\n\\n\\n\\n\\nÉglise Saint-Martin (XIIIe siècle) avec son clocher en bâtière bâti en 1710, dont le mobilier fut fortement endommagé pendant la Révolution. Elle abrite une sculpture charité Saint-Martin avec donateur en pierre calcaire de la fin du XVe classée au titre objet aux monuments historiques. Elle formait à l'origine tympan au-dessus de la porte d'entrée de l'église et fut déplacée à l'intérieur de la nef afin d'être mieux conservée. Le donateur sans tête est représenté en prière, avec probablement son épouse derrière lui, à gauche du groupe sculpté. .\\nChâteau de la Bréhoulle.\\nAncienne gare, près de l'église, de la ligne de chemin de fer de Cherbourg à Barfleur où s'arrêtait le « tue-vaques ».\\n\\n\\n\\n\\n\\n\""
      ]
     },
     "execution_count": 40,
     "metadata": {},
     "output_type": "execute_result"
    }
   ],
   "source": [
    "df_train[\"flat_contents\"][df_train.index[0]]"
   ]
  },
  {
   "cell_type": "code",
   "execution_count": 41,
   "metadata": {},
   "outputs": [
    {
     "name": "stdout",
     "output_type": "stream",
     "text": [
      "ID du token [SEP]: 102\n"
     ]
    }
   ],
   "source": [
    "tokenizer = DistilBertTokenizer.from_pretrained('distilbert-base-uncased')\n",
    "sep_token_id = tokenizer.sep_token_id\n",
    "\n",
    "print(f\"ID du token [SEP]: {sep_token_id}\")"
   ]
  },
  {
   "cell_type": "code",
   "execution_count": 43,
   "metadata": {},
   "outputs": [
    {
     "name": "stdout",
     "output_type": "stream",
     "text": [
      "512\n",
      "512\n",
      "512\n",
      "512\n",
      "512\n",
      "512\n",
      "512\n",
      "512\n",
      "512\n",
      "512\n",
      "512\n",
      "512\n",
      "512\n",
      "512\n",
      "512\n",
      "512\n",
      "512\n",
      "512\n",
      "512\n",
      "512\n",
      "512\n",
      "512\n",
      "512\n",
      "512\n",
      "512\n",
      "512\n",
      "512\n",
      "512\n",
      "512\n",
      "512\n",
      "512\n",
      "512\n",
      "512\n",
      "512\n",
      "512\n",
      "512\n",
      "512\n",
      "512\n",
      "512\n",
      "512\n",
      "512\n",
      "512\n",
      "512\n",
      "512\n",
      "512\n",
      "512\n",
      "512\n",
      "512\n",
      "512\n",
      "512\n",
      "512\n",
      "512\n",
      "512\n",
      "512\n",
      "512\n",
      "512\n",
      "512\n",
      "512\n",
      "512\n",
      "512\n",
      "512\n",
      "512\n",
      "512\n",
      "512\n",
      "512\n",
      "512\n",
      "512\n",
      "512\n",
      "512\n",
      "512\n",
      "512\n",
      "512\n",
      "512\n",
      "512\n",
      "512\n",
      "512\n",
      "512\n",
      "512\n",
      "512\n",
      "512\n",
      "512\n",
      "512\n",
      "512\n",
      "512\n",
      "512\n",
      "512\n",
      "512\n",
      "512\n",
      "512\n",
      "512\n",
      "512\n",
      "512\n",
      "512\n",
      "512\n",
      "512\n",
      "512\n",
      "512\n",
      "512\n",
      "512\n",
      "512\n"
     ]
    }
   ],
   "source": [
    "for i in range(len(train_dataset)):\n",
    "  print(len(train_dataset[0][\"input_ids\"]))"
   ]
  },
  {
   "cell_type": "code",
   "execution_count": null,
   "metadata": {},
   "outputs": [],
   "source": []
  }
 ],
 "metadata": {
  "kernelspec": {
   "display_name": "base",
   "language": "python",
   "name": "python3"
  },
  "language_info": {
   "codemirror_mode": {
    "name": "ipython",
    "version": 3
   },
   "file_extension": ".py",
   "mimetype": "text/x-python",
   "name": "python",
   "nbconvert_exporter": "python",
   "pygments_lexer": "ipython3",
   "version": "3.9.13"
  },
  "orig_nbformat": 4,
  "vscode": {
   "interpreter": {
    "hash": "6d7f428a150b92572ac46240b6d7ae68586908362b054f21341550673eeb77dc"
   }
  }
 },
 "nbformat": 4,
 "nbformat_minor": 2
}
